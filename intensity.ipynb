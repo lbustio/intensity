{
 "cells": [
  {
   "cell_type": "markdown",
   "metadata": {},
   "source": [
    "# PoP Intensity"
   ]
  },
  {
   "cell_type": "markdown",
   "metadata": {},
   "source": [
    "- Date: 2025.01.05\n",
    "- Contact: [Dr. Lázaro Bustio Martínez](lazaro.bustio@ibero.mx).\n",
    "- Python version: 3.12.8\n",
    "\n",
    "Determine the intensity level for each principle of persuasion. This code is developed for Python 3.12.8."
   ]
  },
  {
   "cell_type": "markdown",
   "metadata": {},
   "source": [
    "# Defining logging"
   ]
  },
  {
   "cell_type": "code",
   "execution_count": 2,
   "metadata": {},
   "outputs": [
    {
     "name": "stderr",
     "output_type": "stream",
     "text": [
      "2025-01-05 01:01:07: \u001b[1;32mINFO\u001b[0m - \u001b[0;32mEl código comenzó a ejecutarse correctamente.\u001b[0m\n",
      "2025-01-05 01:01:07: \u001b[1;33mWARNING\u001b[0m - \u001b[0;33mEste es un mensaje de advertencia.\u001b[0m\n",
      "2025-01-05 01:01:07: \u001b[1;31mERROR\u001b[0m - \u001b[0;31mOcurrió un error en el código.\u001b[0m\n"
     ]
    }
   ],
   "source": [
    "import logging\n",
    "\n",
    "# Colores ANSI\n",
    "class LogColors:\n",
    "    DATE = \"\\033[1;34m\"  # Azul intenso para la fecha\n",
    "    INFO_BOLD = \"\\033[1;32m\"  # Verde intenso (negrita) para INFO\n",
    "    INFO = \"\\033[0;32m\"  # Verde suave para INFO (esto lo cambiaré a verde lima)\n",
    "    WARNING_BOLD = \"\\033[1;33m\"  # Amarillo intenso (negrita) para WARNING\n",
    "    WARNING = \"\\033[0;33m\"  # Amarillo suave para WARNING\n",
    "    ERROR_BOLD = \"\\033[1;31m\"  # Rojo intenso (negrita) para ERROR\n",
    "    ERROR = \"\\033[0;31m\"  # Rojo suave para ERROR\n",
    "    RESET = \"\\033[0m\"  # Resetear el color\n",
    "\n",
    "# Formateador personalizado\n",
    "class ColoredFormatter(logging.Formatter):\n",
    "    def format(self, record):\n",
    "        # Formatear la fecha con color azul\n",
    "        dt = self.formatTime(record, self.datefmt)\n",
    "        date, time = dt.split(' ')\n",
    "        colored_date = f\"{LogColors.DATE}{date}{LogColors.RESET}\"\n",
    "        colored_time = f\"{LogColors.DATE}{time}{LogColors.RESET}\"\n",
    "        \n",
    "        # Colorear el tipo de mensaje (levelname) y el mensaje del log\n",
    "        if record.levelname == \"INFO\":\n",
    "            record.levelname = f\"{LogColors.INFO_BOLD}{record.levelname}{LogColors.RESET}\"\n",
    "            record.msg = f\"{LogColors.INFO}{record.msg}{LogColors.RESET}\"\n",
    "        elif record.levelname == \"WARNING\":\n",
    "            record.levelname = f\"{LogColors.WARNING_BOLD}{record.levelname}{LogColors.RESET}\"\n",
    "            record.msg = f\"{LogColors.WARNING}{record.msg}{LogColors.RESET}\"\n",
    "        elif record.levelname == \"ERROR\":\n",
    "            record.levelname = f\"{LogColors.ERROR_BOLD}{record.levelname}{LogColors.RESET}\"\n",
    "            record.msg = f\"{LogColors.ERROR}{record.msg}{LogColors.RESET}\"\n",
    "\n",
    "        # Reemplazar la fecha y hora en el registro\n",
    "        record.asctime = f\"{colored_date} {colored_time}\"\n",
    "        \n",
    "        return super().format(record)\n",
    "\n",
    "# Configuración del logger\n",
    "logger = logging.getLogger(\"MiLogger\")\n",
    "logger.setLevel(logging.INFO)\n",
    "\n",
    "# Evitar manejadores duplicados\n",
    "logger.handlers.clear()\n",
    "\n",
    "# Manejador de consola con colores\n",
    "console_handler = logging.StreamHandler()\n",
    "formato = ColoredFormatter(\"%(asctime)s: %(levelname)s - %(message)s\", datefmt=\"%Y-%m-%d %H:%M:%S\")\n",
    "console_handler.setFormatter(formato)\n",
    "logger.addHandler(console_handler)\n",
    "\n",
    "# Desactivar el logger raíz (limpiar los manejadores raíz)\n",
    "logging.getLogger().handlers.clear()\n",
    "\n",
    "# Ejemplo de uso\n",
    "logger.info(\"El código comenzó a ejecutarse correctamente.\")\n",
    "logger.warning(\"Este es un mensaje de advertencia.\")\n",
    "logger.error(\"Ocurrió un error en el código.\")\n"
   ]
  },
  {
   "cell_type": "markdown",
   "metadata": {},
   "source": [
    "# Installing Libraries"
   ]
  },
  {
   "cell_type": "code",
   "execution_count": 4,
   "metadata": {},
   "outputs": [
    {
     "name": "stderr",
     "output_type": "stream",
     "text": [
      "2025-01-05 01:02:46: \u001b[1;32mINFO\u001b[0m - \u001b[0;32mInstaling required libraries...\u001b[0m\n",
      "2025-01-05 01:02:46: \u001b[1;32mINFO\u001b[0m - \u001b[0;32mInstalling pandas...\u001b[0m\n",
      "2025-01-05 01:02:47: \u001b[1;32mINFO\u001b[0m - \u001b[0;32mInstalling numpy...\u001b[0m\n"
     ]
    },
    {
     "name": "stdout",
     "output_type": "stream",
     "text": [
      "Requirement already satisfied: pandas in .\\.venv\\lib\\site-packages (2.2.3)\n",
      "Requirement already satisfied: numpy>=1.26.0 in .\\.venv\\lib\\site-packages (from pandas) (2.2.1)\n",
      "Requirement already satisfied: python-dateutil>=2.8.2 in .\\.venv\\lib\\site-packages (from pandas) (2.9.0.post0)\n",
      "Requirement already satisfied: pytz>=2020.1 in .\\.venv\\lib\\site-packages (from pandas) (2024.2)\n",
      "Requirement already satisfied: tzdata>=2022.7 in .\\.venv\\lib\\site-packages (from pandas) (2024.2)\n",
      "Requirement already satisfied: six>=1.5 in .\\.venv\\lib\\site-packages (from python-dateutil>=2.8.2->pandas) (1.17.0)\n"
     ]
    },
    {
     "name": "stderr",
     "output_type": "stream",
     "text": [
      "2025-01-05 01:02:48: \u001b[1;32mINFO\u001b[0m - \u001b[0;32mInstalling transformers...\u001b[0m\n"
     ]
    },
    {
     "name": "stdout",
     "output_type": "stream",
     "text": [
      "Requirement already satisfied: numpy in .\\.venv\\lib\\site-packages (2.2.1)\n"
     ]
    },
    {
     "name": "stderr",
     "output_type": "stream",
     "text": [
      "2025-01-05 01:02:49: \u001b[1;32mINFO\u001b[0m - \u001b[0;32mInstalling torch...\u001b[0m\n"
     ]
    },
    {
     "name": "stdout",
     "output_type": "stream",
     "text": [
      "Requirement already satisfied: transformers in .\\.venv\\lib\\site-packages (4.47.1)\n",
      "Requirement already satisfied: filelock in .\\.venv\\lib\\site-packages (from transformers) (3.16.1)\n",
      "Requirement already satisfied: huggingface-hub<1.0,>=0.24.0 in .\\.venv\\lib\\site-packages (from transformers) (0.27.0)\n",
      "Requirement already satisfied: numpy>=1.17 in .\\.venv\\lib\\site-packages (from transformers) (2.2.1)\n",
      "Requirement already satisfied: packaging>=20.0 in .\\.venv\\lib\\site-packages (from transformers) (24.2)\n",
      "Requirement already satisfied: pyyaml>=5.1 in .\\.venv\\lib\\site-packages (from transformers) (6.0.2)\n",
      "Requirement already satisfied: regex!=2019.12.17 in .\\.venv\\lib\\site-packages (from transformers) (2024.11.6)\n",
      "Requirement already satisfied: requests in .\\.venv\\lib\\site-packages (from transformers) (2.32.3)\n",
      "Requirement already satisfied: tokenizers<0.22,>=0.21 in .\\.venv\\lib\\site-packages (from transformers) (0.21.0)\n",
      "Requirement already satisfied: safetensors>=0.4.1 in .\\.venv\\lib\\site-packages (from transformers) (0.5.0)\n",
      "Requirement already satisfied: tqdm>=4.27 in .\\.venv\\lib\\site-packages (from transformers) (4.67.1)\n",
      "Requirement already satisfied: fsspec>=2023.5.0 in .\\.venv\\lib\\site-packages (from huggingface-hub<1.0,>=0.24.0->transformers) (2024.12.0)\n",
      "Requirement already satisfied: typing-extensions>=3.7.4.3 in .\\.venv\\lib\\site-packages (from huggingface-hub<1.0,>=0.24.0->transformers) (4.12.2)\n",
      "Requirement already satisfied: colorama in .\\.venv\\lib\\site-packages (from tqdm>=4.27->transformers) (0.4.6)\n",
      "Requirement already satisfied: charset-normalizer<4,>=2 in .\\.venv\\lib\\site-packages (from requests->transformers) (3.4.1)\n",
      "Requirement already satisfied: idna<4,>=2.5 in .\\.venv\\lib\\site-packages (from requests->transformers) (3.10)\n",
      "Requirement already satisfied: urllib3<3,>=1.21.1 in .\\.venv\\lib\\site-packages (from requests->transformers) (2.3.0)\n",
      "Requirement already satisfied: certifi>=2017.4.17 in .\\.venv\\lib\\site-packages (from requests->transformers) (2024.12.14)\n"
     ]
    },
    {
     "name": "stderr",
     "output_type": "stream",
     "text": [
      "2025-01-05 01:02:50: \u001b[1;32mINFO\u001b[0m - \u001b[0;32mLiraries installed successfully!\u001b[0m\n"
     ]
    },
    {
     "name": "stdout",
     "output_type": "stream",
     "text": [
      "Requirement already satisfied: torch in .\\.venv\\lib\\site-packages (2.5.1)\n",
      "Requirement already satisfied: filelock in .\\.venv\\lib\\site-packages (from torch) (3.16.1)\n",
      "Requirement already satisfied: typing-extensions>=4.8.0 in .\\.venv\\lib\\site-packages (from torch) (4.12.2)\n",
      "Requirement already satisfied: networkx in .\\.venv\\lib\\site-packages (from torch) (3.4.2)\n",
      "Requirement already satisfied: jinja2 in .\\.venv\\lib\\site-packages (from torch) (3.1.5)\n",
      "Requirement already satisfied: fsspec in .\\.venv\\lib\\site-packages (from torch) (2024.12.0)\n",
      "Requirement already satisfied: setuptools in .\\.venv\\lib\\site-packages (from torch) (75.6.0)\n",
      "Requirement already satisfied: sympy==1.13.1 in .\\.venv\\lib\\site-packages (from torch) (1.13.1)\n",
      "Requirement already satisfied: mpmath<1.4,>=1.1.0 in .\\.venv\\lib\\site-packages (from sympy==1.13.1->torch) (1.3.0)\n",
      "Requirement already satisfied: MarkupSafe>=2.0 in .\\.venv\\lib\\site-packages (from jinja2->torch) (3.0.2)\n"
     ]
    }
   ],
   "source": [
    "logger.info(\"Instaling required libraries...\")\n",
    "\n",
    "logger.info(\"Installing pandas...\")\n",
    "!pip install pandas\n",
    "\n",
    "logger.info(\"Installing numpy...\")\n",
    "!pip install numpy\n",
    "\n",
    "logger.info(\"Installing transformers...\")\n",
    "!pip install transformers\n",
    "\n",
    "logger.info(\"Installing torch...\")\n",
    "!pip install torch\n",
    "\n",
    "logger.info(\"Liraries installed successfully!\")"
   ]
  },
  {
   "cell_type": "markdown",
   "metadata": {},
   "source": [
    "# Imports"
   ]
  },
  {
   "cell_type": "code",
   "execution_count": 13,
   "metadata": {},
   "outputs": [
    {
     "name": "stderr",
     "output_type": "stream",
     "text": [
      "2025-01-04 23:43:58: \u001b[1;32mINFO\u001b[0m - \u001b[0;32mImporting libraries.\u001b[0m\n"
     ]
    }
   ],
   "source": [
    "logger.info(\"Importing libraries.\")\n",
    "\n",
    "import pandas as pd\n",
    "import numpy as np"
   ]
  },
  {
   "cell_type": "markdown",
   "metadata": {},
   "source": [
    "# Data gathering and filtering"
   ]
  },
  {
   "cell_type": "code",
   "execution_count": 14,
   "metadata": {},
   "outputs": [
    {
     "name": "stderr",
     "output_type": "stream",
     "text": [
      "2025-01-04 23:48:56: \u001b[1;32mINFO\u001b[0m - \u001b[0;32mReading data file....\u001b[0m\n"
     ]
    },
    {
     "data": {
      "text/html": [
       "<div>\n",
       "<style scoped>\n",
       "    .dataframe tbody tr th:only-of-type {\n",
       "        vertical-align: middle;\n",
       "    }\n",
       "\n",
       "    .dataframe tbody tr th {\n",
       "        vertical-align: top;\n",
       "    }\n",
       "\n",
       "    .dataframe thead th {\n",
       "        text-align: right;\n",
       "    }\n",
       "</style>\n",
       "<table border=\"1\" class=\"dataframe\">\n",
       "  <thead>\n",
       "    <tr style=\"text-align: right;\">\n",
       "      <th></th>\n",
       "      <th>id</th>\n",
       "      <th>path</th>\n",
       "      <th>hash</th>\n",
       "      <th>subject</th>\n",
       "      <th>txt</th>\n",
       "      <th>authority</th>\n",
       "      <th>class</th>\n",
       "      <th>label</th>\n",
       "    </tr>\n",
       "  </thead>\n",
       "  <tbody>\n",
       "    <tr>\n",
       "      <th>22</th>\n",
       "      <td>8003</td>\n",
       "      <td>/content/gdrive/MyDrive/Colabs/02.-Proyectos/P...</td>\n",
       "      <td>ee37cb4350f9b18221d0f447e32793a9</td>\n",
       "      <td>R Re International Tender Egypt Cyber War Depa...</td>\n",
       "      <td>Dear Moniem Here is mobile 39 3357939078 You c...</td>\n",
       "      <td>1</td>\n",
       "      <td>0</td>\n",
       "      <td>Legit</td>\n",
       "    </tr>\n",
       "    <tr>\n",
       "      <th>28</th>\n",
       "      <td>7478</td>\n",
       "      <td>/content/gdrive/MyDrive/Colabs/02.-Proyectos/P...</td>\n",
       "      <td>9e988c53447c2c23c1926aa86fe3f30d</td>\n",
       "      <td>Today s headlines from The Boston Globe</td>\n",
       "      <td>To view this email as a web page go to the lin...</td>\n",
       "      <td>1</td>\n",
       "      <td>0</td>\n",
       "      <td>Legit</td>\n",
       "    </tr>\n",
       "    <tr>\n",
       "      <th>34</th>\n",
       "      <td>6881</td>\n",
       "      <td>/content/gdrive/MyDrive/Colabs/02.-Proyectos/P...</td>\n",
       "      <td>e34e47e2a0079f382b3f6622f9b02217</td>\n",
       "      <td>domain.com order of The Trembling of a Leaf Li...</td>\n",
       "      <td>Kindle eBooks Your Account domain.com Order Co...</td>\n",
       "      <td>1</td>\n",
       "      <td>0</td>\n",
       "      <td>Legit</td>\n",
       "    </tr>\n",
       "    <tr>\n",
       "      <th>60</th>\n",
       "      <td>7459</td>\n",
       "      <td>/content/gdrive/MyDrive/Colabs/02.-Proyectos/P...</td>\n",
       "      <td>8591a3f5136493d15c1e935ecb2308d3</td>\n",
       "      <td>Chris Rock In a Daze As Toronto Buzz Heightens...</td>\n",
       "      <td>Chris Rock and Rosario Dawson stopped by the V...</td>\n",
       "      <td>1</td>\n",
       "      <td>0</td>\n",
       "      <td>Legit</td>\n",
       "    </tr>\n",
       "    <tr>\n",
       "      <th>81</th>\n",
       "      <td>6554</td>\n",
       "      <td>/content/gdrive/MyDrive/Colabs/02.-Proyectos/P...</td>\n",
       "      <td>d3031c89204fa2b4f12ef5645291fef3</td>\n",
       "      <td>Contribution Donate to help Democrats new abro...</td>\n",
       "      <td>CONTRIBUTION DATA Page Donate to help Democrat...</td>\n",
       "      <td>1</td>\n",
       "      <td>0</td>\n",
       "      <td>Legit</td>\n",
       "    </tr>\n",
       "    <tr>\n",
       "      <th>...</th>\n",
       "      <td>...</td>\n",
       "      <td>...</td>\n",
       "      <td>...</td>\n",
       "      <td>...</td>\n",
       "      <td>...</td>\n",
       "      <td>...</td>\n",
       "      <td>...</td>\n",
       "      <td>...</td>\n",
       "    </tr>\n",
       "    <tr>\n",
       "      <th>2086</th>\n",
       "      <td>5690</td>\n",
       "      <td>/content/gdrive/MyDrive/Colabs/02.-Proyectos/P...</td>\n",
       "      <td>b25e8893fae61d623d6810437f8d44ae</td>\n",
       "      <td>Hello You are qualified for a pay raise on your</td>\n",
       "      <td>Hello You are qualified for a pay raise on you...</td>\n",
       "      <td>1</td>\n",
       "      <td>1</td>\n",
       "      <td>Phish</td>\n",
       "    </tr>\n",
       "    <tr>\n",
       "      <th>2087</th>\n",
       "      <td>5691</td>\n",
       "      <td>/content/gdrive/MyDrive/Colabs/02.-Proyectos/P...</td>\n",
       "      <td>5dc06913e80aeb595a6a34d5b72626ba</td>\n",
       "      <td>Our record shows that your Mailbox is Out date...</td>\n",
       "      <td>Our record shows that your Mailbox is Out date...</td>\n",
       "      <td>1</td>\n",
       "      <td>1</td>\n",
       "      <td>Phish</td>\n",
       "    </tr>\n",
       "    <tr>\n",
       "      <th>2088</th>\n",
       "      <td>5693</td>\n",
       "      <td>/content/gdrive/MyDrive/Colabs/02.-Proyectos/P...</td>\n",
       "      <td>ce0d77e4c83d7499067766195159a562</td>\n",
       "      <td>This e mail is to notify you the staff and</td>\n",
       "      <td>This e mail is to notify you the staff and stu...</td>\n",
       "      <td>1</td>\n",
       "      <td>1</td>\n",
       "      <td>Phish</td>\n",
       "    </tr>\n",
       "    <tr>\n",
       "      <th>2090</th>\n",
       "      <td>5697</td>\n",
       "      <td>/content/gdrive/MyDrive/Colabs/02.-Proyectos/P...</td>\n",
       "      <td>d2b71708bc1e7398e0046425f93e8f8d</td>\n",
       "      <td>A Computer Database Maintenance is currently g...</td>\n",
       "      <td>A Computer Database Maintenance is currently g...</td>\n",
       "      <td>1</td>\n",
       "      <td>1</td>\n",
       "      <td>Phish</td>\n",
       "    </tr>\n",
       "    <tr>\n",
       "      <th>2092</th>\n",
       "      <td>5699</td>\n",
       "      <td>/content/gdrive/MyDrive/Colabs/02.-Proyectos/P...</td>\n",
       "      <td>80f5a3873f0d6a4a79ae0f571a79b165</td>\n",
       "      <td>EMAIL ID EXPIRED ID netID email address For au...</td>\n",
       "      <td>EMAIL ID EXPIRED ID netID email address For au...</td>\n",
       "      <td>1</td>\n",
       "      <td>1</td>\n",
       "      <td>Phish</td>\n",
       "    </tr>\n",
       "  </tbody>\n",
       "</table>\n",
       "<p>661 rows × 8 columns</p>\n",
       "</div>"
      ],
      "text/plain": [
       "        id                                               path  \\\n",
       "22    8003  /content/gdrive/MyDrive/Colabs/02.-Proyectos/P...   \n",
       "28    7478  /content/gdrive/MyDrive/Colabs/02.-Proyectos/P...   \n",
       "34    6881  /content/gdrive/MyDrive/Colabs/02.-Proyectos/P...   \n",
       "60    7459  /content/gdrive/MyDrive/Colabs/02.-Proyectos/P...   \n",
       "81    6554  /content/gdrive/MyDrive/Colabs/02.-Proyectos/P...   \n",
       "...    ...                                                ...   \n",
       "2086  5690  /content/gdrive/MyDrive/Colabs/02.-Proyectos/P...   \n",
       "2087  5691  /content/gdrive/MyDrive/Colabs/02.-Proyectos/P...   \n",
       "2088  5693  /content/gdrive/MyDrive/Colabs/02.-Proyectos/P...   \n",
       "2090  5697  /content/gdrive/MyDrive/Colabs/02.-Proyectos/P...   \n",
       "2092  5699  /content/gdrive/MyDrive/Colabs/02.-Proyectos/P...   \n",
       "\n",
       "                                  hash  \\\n",
       "22    ee37cb4350f9b18221d0f447e32793a9   \n",
       "28    9e988c53447c2c23c1926aa86fe3f30d   \n",
       "34    e34e47e2a0079f382b3f6622f9b02217   \n",
       "60    8591a3f5136493d15c1e935ecb2308d3   \n",
       "81    d3031c89204fa2b4f12ef5645291fef3   \n",
       "...                                ...   \n",
       "2086  b25e8893fae61d623d6810437f8d44ae   \n",
       "2087  5dc06913e80aeb595a6a34d5b72626ba   \n",
       "2088  ce0d77e4c83d7499067766195159a562   \n",
       "2090  d2b71708bc1e7398e0046425f93e8f8d   \n",
       "2092  80f5a3873f0d6a4a79ae0f571a79b165   \n",
       "\n",
       "                                                subject  \\\n",
       "22    R Re International Tender Egypt Cyber War Depa...   \n",
       "28              Today s headlines from The Boston Globe   \n",
       "34    domain.com order of The Trembling of a Leaf Li...   \n",
       "60    Chris Rock In a Daze As Toronto Buzz Heightens...   \n",
       "81    Contribution Donate to help Democrats new abro...   \n",
       "...                                                 ...   \n",
       "2086    Hello You are qualified for a pay raise on your   \n",
       "2087  Our record shows that your Mailbox is Out date...   \n",
       "2088         This e mail is to notify you the staff and   \n",
       "2090  A Computer Database Maintenance is currently g...   \n",
       "2092  EMAIL ID EXPIRED ID netID email address For au...   \n",
       "\n",
       "                                                    txt  authority  class  \\\n",
       "22    Dear Moniem Here is mobile 39 3357939078 You c...          1      0   \n",
       "28    To view this email as a web page go to the lin...          1      0   \n",
       "34    Kindle eBooks Your Account domain.com Order Co...          1      0   \n",
       "60    Chris Rock and Rosario Dawson stopped by the V...          1      0   \n",
       "81    CONTRIBUTION DATA Page Donate to help Democrat...          1      0   \n",
       "...                                                 ...        ...    ...   \n",
       "2086  Hello You are qualified for a pay raise on you...          1      1   \n",
       "2087  Our record shows that your Mailbox is Out date...          1      1   \n",
       "2088  This e mail is to notify you the staff and stu...          1      1   \n",
       "2090  A Computer Database Maintenance is currently g...          1      1   \n",
       "2092  EMAIL ID EXPIRED ID netID email address For au...          1      1   \n",
       "\n",
       "      label  \n",
       "22    Legit  \n",
       "28    Legit  \n",
       "34    Legit  \n",
       "60    Legit  \n",
       "81    Legit  \n",
       "...     ...  \n",
       "2086  Phish  \n",
       "2087  Phish  \n",
       "2088  Phish  \n",
       "2090  Phish  \n",
       "2092  Phish  \n",
       "\n",
       "[661 rows x 8 columns]"
      ]
     },
     "execution_count": 14,
     "metadata": {},
     "output_type": "execute_result"
    }
   ],
   "source": [
    "logger.info(\"Reading data file....\")\n",
    "\n",
    "data_df = pd.read_csv('data/pop_dataset_Full(Tiltan).csv', header=1)\n",
    "\n",
    "pops = [\"authority\", \"distraction\", \"liking_similarity_deception\",\"social_proof\", \"commitment_integrity_reciprocation\"]\n",
    "pop = [\"authority\"]\n",
    "data = data_df[[\"id\", \"path\", \"hash\", \"subject\", \"txt\"] + pops + [\"class\", \"label\"]]\n",
    "\n",
    "data_authority = data_df.loc[data_df[\"authority\"] == 1, [\"id\", \"path\", \"hash\", \"subject\", \"txt\", \"authority\", \"class\", \"label\"]]\n",
    "data_authority"
   ]
  },
  {
   "cell_type": "markdown",
   "metadata": {},
   "source": [
    "# Data representation"
   ]
  },
  {
   "cell_type": "markdown",
   "metadata": {},
   "source": [
    "For each principle of persuasion..."
   ]
  },
  {
   "cell_type": "code",
   "execution_count": 15,
   "metadata": {},
   "outputs": [
    {
     "name": "stdout",
     "output_type": "stream",
     "text": [
      "authority\n"
     ]
    }
   ],
   "source": [
    "for principle in pop:\n",
    "  print(principle)"
   ]
  },
  {
   "cell_type": "markdown",
   "metadata": {},
   "source": [
    "## FastText"
   ]
  },
  {
   "cell_type": "markdown",
   "metadata": {},
   "source": [
    "Be sure to install Microsoft C++ Build Tools by following the instructions provided in this [Medium article](https://medium.com/@oleg.tarasov/building-fasttext-python-wrapper-from-source-under-windows-68e693a68cbb)."
   ]
  },
  {
   "cell_type": "code",
   "execution_count": 1,
   "metadata": {},
   "outputs": [
    {
     "ename": "ModuleNotFoundError",
     "evalue": "No module named 'fasttext'",
     "output_type": "error",
     "traceback": [
      "\u001b[1;31m---------------------------------------------------------------------------\u001b[0m",
      "\u001b[1;31mModuleNotFoundError\u001b[0m                       Traceback (most recent call last)",
      "Cell \u001b[1;32mIn[1], line 1\u001b[0m\n\u001b[1;32m----> 1\u001b[0m \u001b[38;5;28;01mimport\u001b[39;00m \u001b[38;5;21;01mfasttext\u001b[39;00m\n",
      "\u001b[1;31mModuleNotFoundError\u001b[0m: No module named 'fasttext'"
     ]
    }
   ],
   "source": [
    "import fasttext"
   ]
  },
  {
   "cell_type": "markdown",
   "metadata": {},
   "source": [
    "## DistilBERT"
   ]
  }
 ],
 "metadata": {
  "kernelspec": {
   "display_name": ".venv",
   "language": "python",
   "name": "python3"
  },
  "language_info": {
   "codemirror_mode": {
    "name": "ipython",
    "version": 3
   },
   "file_extension": ".py",
   "mimetype": "text/x-python",
   "name": "python",
   "nbconvert_exporter": "python",
   "pygments_lexer": "ipython3",
   "version": "3.12.8"
  }
 },
 "nbformat": 4,
 "nbformat_minor": 2
}
